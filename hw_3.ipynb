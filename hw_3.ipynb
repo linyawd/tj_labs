{
 "cells": [
  {
   "cell_type": "markdown",
   "metadata": {
    "id": "e5mobm6U07x-"
   },
   "source": [
    "## 1 Задача 1.3.12\n",
    "Знайти ймовiрнiсть того, що серед трьох цифр, кожна з яких вибрана навмання, буде лише 1, 2, 3 рiзних.\n",
    "\n",
    "Обчисліть теоретичну (повним перебором) та еміричну (симулюванням $100000$ експериментів) імовірності."
   ]
  },
  {
   "cell_type": "code",
   "execution_count": 1,
   "metadata": {
    "id": "bJZTUSsr07x_"
   },
   "outputs": [
    {
     "name": "stdout",
     "output_type": "stream",
     "text": [
      "\n",
      "Теоретичні ймовірності:\n",
      "  Всі цифри однакові     : 0.0100\n",
      "  Дві однакові, одна інша: 0.2700\n",
      "  Усі різні              : 0.7200\n",
      "\n",
      "Емпіричні ймовірності (на основі 100,000 симуляцій):\n",
      "  Всі цифри однакові     : 0.0098\n",
      "  Дві однакові, одна інша: 0.2715\n",
      "  Усі різні              : 0.7187\n"
     ]
    }
   ],
   "source": [
    "# Місце для Вашого коду\n",
    "import itertools\n",
    "import random\n",
    "\n",
    "# Теоретична оцінка\n",
    "one, two, three = 0, 0, 0\n",
    "all_codes = itertools.product(range(10), repeat=3)\n",
    "\n",
    "for code in all_codes:\n",
    "    distinct = len(set(code))\n",
    "    if distinct == 1:\n",
    "        one += 1\n",
    "    elif distinct == 2:\n",
    "        two += 1\n",
    "    else:\n",
    "        three += 1\n",
    "\n",
    "total_cases = 1000\n",
    "print(\"\\nТеоретичні ймовірності:\")\n",
    "print(f\"  Всі цифри однакові     : {one / total_cases:.4f}\")\n",
    "print(f\"  Дві однакові, одна інша: {two / total_cases:.4f}\")\n",
    "print(f\"  Усі різні              : {three / total_cases:.4f}\")\n",
    "\n",
    "# Емпірична симуляція\n",
    "sim_one, sim_two, sim_three = 0, 0, 0\n",
    "trials = 100_000\n",
    "\n",
    "for _ in range(trials):\n",
    "    sample = {random.randint(0, 9) for _ in range(3)}\n",
    "    count = len(sample)\n",
    "    if count == 1:\n",
    "        sim_one += 1\n",
    "    elif count == 2:\n",
    "        sim_two += 1\n",
    "    else:\n",
    "        sim_three += 1\n",
    "\n",
    "print(\"\\nЕмпіричні ймовірності (на основі 100,000 симуляцій):\")\n",
    "print(f\"  Всі цифри однакові     : {sim_one / trials:.4f}\")\n",
    "print(f\"  Дві однакові, одна інша: {sim_two / trials:.4f}\")\n",
    "print(f\"  Усі різні              : {sim_three / trials:.4f}\")\n",
    "\n"
   ]
  },
  {
   "cell_type": "markdown",
   "metadata": {
    "id": "x0yEK8Tz07yB"
   },
   "source": [
    "# 2 Задача 1.3.14\n",
    "З послiдовностi чисел $1, 2, . . . , n$ вибирають навмання $k$ рiзних чисел.\n",
    "Яка ймовiрнiсть того, що:\n",
    "1. кожне з вибраних чисел кратне даному числу $p$;\n",
    "2. кожне з вибраних чисел кратне хоча б одному з двох взаємно простих чисел $p$ i $q$;\n",
    "3. серед вибраних чисел є хоча б одне кратне $p$?\n",
    "\n",
    "Напишіть  відповідні функції для обрахунку теоретичної (повним перебором) та еміричної (симулюванням $100000$ експериментів) імовірностей в залежності від параметрів $n, k, p, q$.\n",
    "Виведіть результат для\n",
    "- $n = 25, k = 5, p = 3, q = 4$;\n",
    "- $n = 25, k = 10, p = 3, q = 4$."
   ]
  },
  {
   "cell_type": "code",
   "execution_count": 2,
   "metadata": {
    "id": "MVkPBwh307yC"
   },
   "outputs": [
    {
     "name": "stdout",
     "output_type": "stream",
     "text": [
      "=========================\n",
      "Точні ймовірності для n=25, k=5:\n",
      "  Всі кратні 3: 0.00105\n",
      "  Всі кратні 3 або 4: 0.01491\n",
      "  Є хоча б одне кратне 3: 0.88353\n",
      "\n",
      "=========================\n",
      "Оцінені ймовірності (на 100000 симуляцій) для n=25, k=5:\n",
      "  Всі кратні 3: 0.00101\n",
      "  Всі кратні 3 або 4: 0.01467\n",
      "  Є хоча б одне кратне 3: 0.88325\n",
      "\n",
      "=========================\n",
      "Точні ймовірності для n=25, k=10:\n",
      "  Всі кратні 3: 0.00000\n",
      "  Всі кратні 3 або 4: 0.00002\n",
      "  Є хоча б одне кратне 3: 0.99405\n",
      "\n",
      "=========================\n",
      "Оцінені ймовірності (на 100000 симуляцій) для n=25, k=10:\n",
      "  Всі кратні 3: 0.00000\n",
      "  Всі кратні 3 або 4: 0.00001\n",
      "  Є хоча б одне кратне 3: 0.99418\n",
      "\n",
      "=========================\n"
     ]
    }
   ],
   "source": [
    "# Місце для Вашого коду\n",
    "import random\n",
    "from itertools import combinations\n",
    "\n",
    "SIMULATIONS = 100_000\n",
    "\n",
    "def divisible_by_all(subset, d):\n",
    "    return all(x % d == 0 for x in subset)\n",
    "\n",
    "def divisible_by_either(subset, a, b):\n",
    "    return all(x % a == 0 or x % b == 0 for x in subset)\n",
    "\n",
    "def contains_divisible(subset, d):\n",
    "    return any(x % d == 0 for x in subset)\n",
    "\n",
    "def exact_prob(n, k, a, b):\n",
    "    universe = range(1, n + 1)\n",
    "    total = 0\n",
    "    count_all = 0\n",
    "    count_either = 0\n",
    "    count_some = 0\n",
    "\n",
    "    for combo in combinations(universe, k):\n",
    "        if divisible_by_all(combo, a):\n",
    "            count_all += 1\n",
    "        if divisible_by_either(combo, a, b):\n",
    "            count_either += 1\n",
    "        if contains_divisible(combo, a):\n",
    "            count_some += 1\n",
    "        total += 1\n",
    "\n",
    "    print(f\"Точні ймовірності для n={n}, k={k}:\")\n",
    "    print(f\"  Всі кратні {a}: {count_all / total:.5f}\")\n",
    "    print(f\"  Всі кратні {a} або {b}: {count_either / total:.5f}\")\n",
    "    print(f\"  Є хоча б одне кратне {a}: {count_some / total:.5f}\\n\")\n",
    "\n",
    "def approx_prob(n, k, a, b):\n",
    "    population = list(range(1, n + 1))\n",
    "    count_all = 0\n",
    "    count_either = 0\n",
    "    count_some = 0\n",
    "\n",
    "    for _ in range(SIMULATIONS):\n",
    "        sample = random.sample(population, k)\n",
    "        if divisible_by_all(sample, a):\n",
    "            count_all += 1\n",
    "        if divisible_by_either(sample, a, b):\n",
    "            count_either += 1\n",
    "        if contains_divisible(sample, a):\n",
    "            count_some += 1\n",
    "\n",
    "    print(f\"Оцінені ймовірності (на {SIMULATIONS} симуляцій) для n={n}, k={k}:\")\n",
    "    print(f\"  Всі кратні {a}: {count_all / SIMULATIONS:.5f}\")\n",
    "    print(f\"  Всі кратні {a} або {b}: {count_either / SIMULATIONS:.5f}\")\n",
    "    print(f\"  Є хоча б одне кратне {a}: {count_some / SIMULATIONS:.5f}\\n\")\n",
    "\n",
    "print(\"=\"*25)\n",
    "exact_prob(25, 5, 3, 4)\n",
    "print(\"=\"*25)\n",
    "approx_prob(25, 5, 3, 4)\n",
    "print(\"=\"*25)\n",
    "exact_prob(25, 10, 3, 4)\n",
    "print(\"=\"*25)\n",
    "approx_prob(25, 10, 3, 4)\n",
    "print(\"=\"*25)\n",
    "\n"
   ]
  },
  {
   "cell_type": "markdown",
   "metadata": {
    "id": "nr2geQ6J07yE"
   },
   "source": [
    "# 3 Задача 1.4.6\n",
    "В коморi знаходяться $n$ пар черевикiв.\n",
    "З них випадковим чином вибираються $2k$ черевикiв.\n",
    "Яка ймовiрнiсть того, що серед вибраних черевикiв:\n",
    "1. вiдсутнi парнi;\n",
    "2. є рiвно одна комплектна пара;\n",
    "3. є двi комплектнi пари?\n",
    "\n",
    "Напишіть  відповідні функції для обрахунку теоретичної (повним перебором) та еміричної (симулюванням $100000$ експериментів) імовірностей в залежності від параметрів $n, k$.\n",
    "Виведіть результат для\n",
    "- $n = 8, k = 4$;\n",
    "- $n = 13, k = 5$."
   ]
  },
  {
   "cell_type": "code",
   "execution_count": 3,
   "metadata": {
    "id": "gbLZ14mx07yG"
   },
   "outputs": [
    {
     "name": "stdout",
     "output_type": "stream",
     "text": [
      "==============================\n",
      "Точні ймовірності (n=8, k=4):\n",
      "  Жодної пари (парне → непарне): 0.01989\n",
      "  Одна пара:                    0.27848\n",
      "  Дві пари:                     0.52214\n",
      "\n",
      "==============================\n",
      "Оцінені ймовірності (n=8, k=4, 100000 симуляцій):\n",
      "  Жодної пари (парне → непарне): 0.02053\n",
      "  Одна пара:                    0.27844\n",
      "  Дві пари:                     0.52166\n",
      "\n",
      "==============================\n",
      "Точні ймовірності (n=13, k=5):\n",
      "  Жодної пари (парне → непарне): 0.05514\n",
      "  Одна пара:                    0.31014\n",
      "  Дві пари:                     0.43419\n",
      "\n",
      "==============================\n",
      "Оцінені ймовірності (n=13, k=5, 100000 симуляцій):\n",
      "  Жодної пари (парне → непарне): 0.05431\n",
      "  Одна пара:                    0.30947\n",
      "  Дві пари:                     0.43254\n",
      "\n",
      "==============================\n"
     ]
    }
   ],
   "source": [
    "# Місце для Вашого коду\n",
    "\n",
    "import random\n",
    "from itertools import combinations\n",
    "\n",
    "SIM_COUNT = 100_000\n",
    "\n",
    "def is_even(n):\n",
    "    return n % 2 == 0\n",
    "\n",
    "def count_even_adjacent(seq):\n",
    "    return sum(is_even(seq[i]) and seq[i+1] - seq[i] == 1 for i in range(len(seq) - 1))\n",
    "\n",
    "def analyze_exact(n, k):\n",
    "    universe = list(range(2 * n))\n",
    "    total = 0\n",
    "    count_0, count_1, count_2 = 0, 0, 0\n",
    "\n",
    "    for combo in combinations(universe, 2 * k):\n",
    "        sorted_combo = sorted(combo)\n",
    "        adj = count_even_adjacent(sorted_combo)\n",
    "        count_0 += (adj == 0)\n",
    "        count_1 += (adj == 1)\n",
    "        count_2 += (adj == 2)\n",
    "        total += 1\n",
    "\n",
    "    print(f\"Точні ймовірності (n={n}, k={k}):\")\n",
    "    print(f\"  Жодної пари (парне → непарне): {count_0 / total:.5f}\")\n",
    "    print(f\"  Одна пара:                    {count_1 / total:.5f}\")\n",
    "    print(f\"  Дві пари:                     {count_2 / total:.5f}\\n\")\n",
    "\n",
    "def analyze_approx(n, k):\n",
    "    base = list(range(2 * n))\n",
    "    count_0, count_1, count_2 = 0, 0, 0\n",
    "\n",
    "    for _ in range(SIM_COUNT):\n",
    "        sample = random.sample(base, 2 * k)\n",
    "        sample.sort()\n",
    "        adj = count_even_adjacent(sample)\n",
    "        count_0 += (adj == 0)\n",
    "        count_1 += (adj == 1)\n",
    "        count_2 += (adj == 2)\n",
    "\n",
    "    print(f\"Оцінені ймовірності (n={n}, k={k}, {SIM_COUNT} симуляцій):\")\n",
    "    print(f\"  Жодної пари (парне → непарне): {count_0 / SIM_COUNT:.5f}\")\n",
    "    print(f\"  Одна пара:                    {count_1 / SIM_COUNT:.5f}\")\n",
    "    print(f\"  Дві пари:                     {count_2 / SIM_COUNT:.5f}\\n\")\n",
    "\n",
    "print(\"=\"*30)\n",
    "analyze_exact(8, 4)\n",
    "print(\"=\"*30)\n",
    "analyze_approx(8, 4)\n",
    "print(\"=\"*30)\n",
    "analyze_exact(13, 5)\n",
    "print(\"=\"*30)\n",
    "analyze_approx(13, 5)\n",
    "print(\"=\"*30)\n"
   ]
  },
  {
   "cell_type": "markdown",
   "metadata": {
    "id": "pFj62c8p07yH"
   },
   "source": [
    "# 4 Задача 1.2.15\n",
    "Нехай $\\Omega = {1, 2, \\ldots, 2n}$.\n",
    "Всiм числам приписанi ймовiрностi, пропорцiйнi логарифмам цих чисел.\n",
    "Знайти цi ймовiрностi.\n",
    "Знайти ймовiрнiсть того, що в результатi експерименту з’явиться:\n",
    "1. парне число;\n",
    "2. непарне число.\n",
    "\n",
    "Напишіть функцію для обрахунку еміричної (симулюванням $100000$ експериментів) імовірності в залежності від параметра $n$.\n",
    "Виведіть результат для\n",
    "- $n = 10$;\n",
    "- $n = 25$."
   ]
  },
  {
   "cell_type": "code",
   "execution_count": 4,
   "metadata": {
    "id": "p50Ac9jj07yI"
   },
   "outputs": [
    {
     "name": "stdout",
     "output_type": "stream",
     "text": [
      "n = 10\n",
      "  Ймовірність парного  : 0.52030\n",
      "  Ймовірність непарного: 0.47970\n",
      "\n",
      "==============================\n",
      "n = 25\n",
      "  Ймовірність парного  : 0.50675\n",
      "  Ймовірність непарного: 0.49325\n",
      "\n"
     ]
    }
   ],
   "source": [
    "# Місце для Вашого коду\n",
    "\n",
    "import math\n",
    "import random\n",
    "\n",
    "SIMULATIONS = 100_000\n",
    "\n",
    "def simulate_log_weighted_parity(limit):\n",
    "    domain = list(range(1, 2 * limit + 1))\n",
    "    weights = [math.log(x) for x in domain]\n",
    "\n",
    "    even = 0\n",
    "    for _ in range(SIMULATIONS):\n",
    "        chosen = random.choices(domain, weights=weights, k=1)[0]\n",
    "        if chosen % 2 == 0:\n",
    "            even += 1\n",
    "\n",
    "    even_prob = even / SIMULATIONS\n",
    "    odd_prob = 1 - even_prob\n",
    "\n",
    "    print(f\"n = {limit}\")\n",
    "    print(f\"  Ймовірність парного  : {even_prob:.5f}\")\n",
    "    print(f\"  Ймовірність непарного: {odd_prob:.5f}\\n\")\n",
    "\n",
    "simulate_log_weighted_parity(10)\n",
    "print(\"=\" * 30)\n",
    "simulate_log_weighted_parity(25)\n"
   ]
  },
  {
   "cell_type": "code",
   "execution_count": null,
   "metadata": {},
   "outputs": [],
   "source": []
  }
 ],
 "metadata": {
  "colab": {
   "provenance": []
  },
  "kernelspec": {
   "display_name": "Python 3 (ipykernel)",
   "language": "python",
   "name": "python3"
  },
  "language_info": {
   "codemirror_mode": {
    "name": "ipython",
    "version": 3
   },
   "file_extension": ".py",
   "mimetype": "text/x-python",
   "name": "python",
   "nbconvert_exporter": "python",
   "pygments_lexer": "ipython3",
   "version": "3.12.4"
  }
 },
 "nbformat": 4,
 "nbformat_minor": 4
}
