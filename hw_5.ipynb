{
 "cells": [
  {
   "cell_type": "markdown",
   "metadata": {
    "id": "q974EZ657M75"
   },
   "source": [
    "# Домашня робота №5"
   ]
  },
  {
   "cell_type": "markdown",
   "metadata": {
    "id": "pLXmTQFy7M78"
   },
   "source": [
    "# Математичне сподівання та дисперсія"
   ]
  },
  {
   "cell_type": "markdown",
   "metadata": {
    "id": "_8gs3J3S7M79"
   },
   "source": [
    "## 1 Порівняння"
   ]
  },
  {
   "cell_type": "markdown",
   "metadata": {
    "id": "eNxE8ht07M7_"
   },
   "source": [
    "1. Реалізуйте функцію для підрахунку математичного сподівання випадкової величини $\\xi$, заданої в класі **scipy.stats**, усіма можливими способами:\n",
    "   - за допомогою методу **mean**;\n",
    "   - за допомогою методу **expect**;\n",
    "   - за допомогою методу **stats**.\n",
    "\n",
    "2. Реалізуйте функцію для підрахунку дисперсії випадкової величини $\\xi$, заданої в класі **scipy.stats**, усіма можливими способами:\n",
    "   - за допомогою методу **var**;\n",
    "   - за допомогою методу **expect** та формули для дисперсії\n",
    "$\\mathsf{D}(\\xi) = \\mathsf{E} \\left[ \\left( \\xi - \\mathsf{E}[\\xi] \\right)^2 \\right]$;\n",
    "   - за допомогою методу **expect** та формули для дисперсії\n",
    "$\\mathsf{D}(\\xi) = \\mathsf{E}[\\xi^2] - \\left( \\mathsf{E}[\\xi] \\right)^2$;\n",
    "   - за допомогою методу **stats**.\n",
    "\n",
    "3. Порахуйте математичне сподівання та дисперсію, використовуючи функції з пунктів **1., 2.**, і порівняйте (виведіть різницю) їх із теоретичними значеннями, використовуючи формули з лекцій, для таких випадкових величин(оберіть 2 на вибір):\n",
    "   - $\\xi \\sim Binom(10, 0.4)$ (біноміальний розподіл);\n",
    "   - $\\xi \\sim Geom(0.5)$ (геометричний розподіл);\n",
    "   - $\\xi \\sim Pois(0.6)$ (розподіл Пуассона);\n",
    "   - $\\xi \\sim NBinom(5, 0.4)$ (від'ємний біноміальний розподіл);\n",
    "   - $\\xi \\sim HGeom(20, 7, 12)$ (гіпергеометричний розподіл);\n",
    "   - $\\xi \\sim Unif(0, 1)$ (рівномірний розподіл);\n",
    "   - $\\xi \\sim Exp(0.5)$ (експоненційний (показниковий) розподіл);\n",
    "   - $\\xi \\sim N(0, 1)$ (нормальний розподіл);\n",
    "   - $\\xi \\sim \\Gamma(2)$ (гамма розподіл);\n",
    "   - $\\xi \\sim LogNorm(0, 1)$ (логнормальний розподіл);\n",
    "   - $\\xi \\sim B(2, 1.1)$ (бета розподіл)."
   ]
  },
  {
   "cell_type": "code",
   "execution_count": 1,
   "metadata": {
    "id": "abNr1TcH7M8A"
   },
   "outputs": [
    {
     "name": "stdout",
     "output_type": "stream",
     "text": [
      "=== Binomial(10, 0.4) ===\n",
      " Mean: {'m1': 4.0, 'm2': 3.9999999999999982, 'm3': 4.0}\n",
      " Теоретично: 4.0\n",
      " Різниця: {'m1': 0.0, 'm2': -1.7763568394002505e-15, 'm3': 0.0}\n",
      " Var: {'v1': 2.4, 'v2': 2.3999999999999977, 'v3': 2.399999999999995, 'v4': 2.4}\n",
      " Теоретично: 2.4\n",
      " Різниця: {'v1': 0.0, 'v2': -2.220446049250313e-15, 'v3': -4.884981308350689e-15, 'v4': 0.0}\n",
      "\n",
      "=== Exponential(λ = 0.5) ===\n",
      " Mean: {'m1': 2.0, 'm2': 2.0, 'm3': 2.0}\n",
      " Теоретично: 2.0\n",
      " Різниця: {'m1': 0.0, 'm2': 0.0, 'm3': 0.0}\n",
      " Var: {'v1': 4.0, 'v2': 4.000000000000003, 'v3': 4.0000000000000036, 'v4': 4.0}\n",
      " Теоретично: 4.0\n",
      " Різниця: {'v1': 0.0, 'v2': 2.6645352591003757e-15, 'v3': 3.552713678800501e-15, 'v4': 0.0}\n"
     ]
    }
   ],
   "source": [
    "# Місце для Вашого коду\n",
    "from scipy.stats import binom, expon\n",
    "\n",
    "def mean_methods(dist):\n",
    "    a = dist.mean()\n",
    "    b = dist.expect(lambda x: x)\n",
    "    c = dist.stats(moments='m')\n",
    "    return {'m1': a, 'm2': b, 'm3': c}\n",
    "\n",
    "def var_methods(dist):\n",
    "    avg = dist.mean()\n",
    "    v1 = dist.var()\n",
    "    v2 = dist.expect(lambda x: (x - avg)**2)\n",
    "    v3 = dist.expect(lambda x: x**2) - avg**2\n",
    "    v4 = dist.stats(moments='v')\n",
    "    return {'v1': v1, 'v2': v2, 'v3': v3, 'v4': v4}\n",
    "\n",
    "d_bin = binom(n=10, p=0.4)\n",
    "theo_m_bin = 10 * 0.4\n",
    "theo_v_bin = 10 * 0.4 * 0.6\n",
    "\n",
    "m_bin = mean_methods(d_bin)\n",
    "v_bin = var_methods(d_bin)\n",
    "\n",
    "print(\"=== Binomial(10, 0.4) ===\")\n",
    "print(\" Mean:\", m_bin)\n",
    "print(\" Теоретично:\", theo_m_bin)\n",
    "print(\" Різниця:\", {k: m_bin[k] - theo_m_bin for k in m_bin})\n",
    "print(\" Var:\", v_bin)\n",
    "print(\" Теоретично:\", theo_v_bin)\n",
    "print(\" Різниця:\", {k: v_bin[k] - theo_v_bin for k in v_bin})\n",
    "\n",
    "rate = 0.5\n",
    "d_exp = expon(scale=1/rate)\n",
    "\n",
    "theo_m_exp = 1 / rate\n",
    "theo_v_exp = 1 / (rate**2)\n",
    "\n",
    "m_exp = mean_methods(d_exp)\n",
    "v_exp = var_methods(d_exp)\n",
    "\n",
    "print(\"\\n=== Exponential(λ = 0.5) ===\")\n",
    "print(\" Mean:\", m_exp)\n",
    "print(\" Теоретично:\", theo_m_exp)\n",
    "print(\" Різниця:\", {k: m_exp[k] - theo_m_exp for k in m_exp})\n",
    "print(\" Var:\", v_exp)\n",
    "print(\" Теоретично:\", theo_v_exp)\n",
    "print(\" Різниця:\", {k: v_exp[k] - theo_v_exp for k in v_exp})\n"
   ]
  },
  {
   "cell_type": "markdown",
   "metadata": {
    "id": "m_VxST4Z7M8P"
   },
   "source": [
    "## 2 Унікальні цифри"
   ]
  },
  {
   "cell_type": "markdown",
   "metadata": {
    "id": "UXxueiRo7M8Q"
   },
   "source": [
    "Нехай випадковим чином вибирають послідовно $n$ цифр (цифри можуть повторюватися, вибірка з поверненням).\n",
    "Нехай тоді випадкова величина $\\xi$ - це кількість унікальних цифр в отриманому наборі.\n",
    "\n",
    "Напишіть функцію для обрахунку математичного сподівання та дисперсії випадкової величини $\\xi$ в залежності від кількості $n$ цифр у наборі методом повного перебору.\n",
    "Виведіть результат для $n = 1, 2, 3, 4, 5, 6, 7.$"
   ]
  },
  {
   "cell_type": "code",
   "execution_count": 2,
   "metadata": {
    "id": "m922JuJk7M8Q"
   },
   "outputs": [
    {
     "name": "stdout",
     "output_type": "stream",
     "text": [
      "n = 1:  E = 1.000000,  D = 0.000000\n",
      "n = 2:  E = 1.900000,  D = 0.090000\n",
      "n = 3:  E = 2.710000,  D = 0.225900\n",
      "n = 4:  E = 3.439000,  D = 0.378279\n",
      "n = 5:  E = 4.095100,  D = 0.528256\n",
      "n = 6:  E = 4.685590,  D = 0.664416\n",
      "n = 7:  E = 5.217031,  D = 0.780545\n"
     ]
    }
   ],
   "source": [
    "# Місце для Вашого коду\n",
    "from sage.all import *\n",
    "\n",
    "def distinct_stat(k):\n",
    "    N = 10 ** k\n",
    "    mean = 0\n",
    "    second = 0\n",
    "    for m in range(1, 11):\n",
    "        term = binomial(10, m) * sum([(-1) ** i * binomial(m, i) * (m - i) ** k for i in range(m + 1)])\n",
    "        mean += m * term\n",
    "        second += m ** 2 * term\n",
    "    mean /= N\n",
    "    second /= N\n",
    "    variance = second - mean ** 2\n",
    "    return mean, variance\n",
    "\n",
    "for size in range(1, 8):\n",
    "    avg, var = distinct_stat(size)\n",
    "    print(f\"n = {size}:  E = {float(avg):.6f},  D = {float(var):.6f}\")\n"
   ]
  },
  {
   "cell_type": "markdown",
   "metadata": {
    "id": "yNYille67M8V"
   },
   "source": [
    "## 3 Парадокс днів народження"
   ]
  },
  {
   "cell_type": "markdown",
   "metadata": {
    "id": "DRtqj9Lt7M8W"
   },
   "source": [
    "Нехай маємо $n$ людей.\n",
    "Їх дні народження припадають на один з 12 місяців.\n",
    "Нехай тоді випадкова величина $\\xi$ - це кількість співпадінь місяців народжень серед цих $n$ людей.\n",
    "\n",
    "Напишіть функцію для обрахунку математичного сподівання та дисперсії випадкової величини $\\xi$ в залежності від кількості $n$ людей методом повного перебору.\n",
    "Виведіть результат для $n = 1, 2, 3, 4, 5, 6.$\n",
    "\n",
    "Для якого $n$ виконується $\\mathsf{E}\\left[ \\xi \\right] \\geq 1$?\n",
    "\n",
    "**Зауваження.** Кількість співпадінь означає кількість однакових пар. Наприклад,\n",
    "- у наборі $\\{ 1, 1, 2, 3 \\}$ є одна пара;\n",
    "- у наборі $\\{ 1, 1, 1, 3 \\}$ є три пари;\n",
    "- у наборі $\\{ 1, 1, 1, 1 \\}$ є шість пар."
   ]
  },
  {
   "cell_type": "code",
   "execution_count": 3,
   "metadata": {
    "id": "RZRYIjCX7M8W"
   },
   "outputs": [
    {
     "name": "stdout",
     "output_type": "stream",
     "text": [
      "n = 1:   E = 0.000000,   D = 0.000000\n",
      "n = 2:   E = 0.083333,   D = 0.076389\n",
      "n = 3:   E = 0.250000,   D = 0.229167\n",
      "n = 4:   E = 0.500000,   D = 0.458333\n",
      "n = 5:   E = 0.833333,   D = 0.763889\n",
      "n = 6:   E = 1.250000,   D = 1.145833\n"
     ]
    }
   ],
   "source": [
    "# Місце для Вашого коду\n",
    "import itertools\n",
    "\n",
    "def collision_stats(k):\n",
    "    total_cases = 12 ** k\n",
    "    sum_1 = 0\n",
    "    sum_2 = 0\n",
    "    for sample in itertools.product(range(1, 13), repeat=k):\n",
    "        match_count = sum(1 for i in range(k) for j in range(i + 1, k) if sample[i] == sample[j])\n",
    "        sum_1 += match_count\n",
    "        sum_2 += match_count ** 2\n",
    "    mean = sum_1 / total_cases\n",
    "    var = sum_2 / total_cases - mean ** 2\n",
    "    return mean, var\n",
    "\n",
    "for people in range(1, 7):\n",
    "    m, v = collision_stats(people)\n",
    "    print(f\"n = {people}:   E = {float(m):.6f},   D = {float(v):.6f}\")\n"
   ]
  },
  {
   "cell_type": "code",
   "execution_count": null,
   "metadata": {},
   "outputs": [],
   "source": []
  }
 ],
 "metadata": {
  "colab": {
   "provenance": []
  },
  "kernelspec": {
   "display_name": "Python 3 (ipykernel)",
   "language": "python",
   "name": "python3"
  },
  "language_info": {
   "codemirror_mode": {
    "name": "ipython",
    "version": 3
   },
   "file_extension": ".py",
   "mimetype": "text/x-python",
   "name": "python",
   "nbconvert_exporter": "python",
   "pygments_lexer": "ipython3",
   "version": "3.12.4"
  }
 },
 "nbformat": 4,
 "nbformat_minor": 4
}
